{
 "cells": [
  {
   "cell_type": "markdown",
   "id": "3da3e562-87c3-45f1-b245-c7df07d7e06e",
   "metadata": {},
   "source": [
    "# Assignment 1: Part C (Modelling)\n",
    "\n",
    "## 1. Problem DescripTIon\n",
    "\n",
    "This stage aims to build a predictive model to analyze the impact of extreme weather events on the per-unit area income of major crops in the United States (silage corn and soybeans). In the first two stages (Assessment 1A and 1B), we have constructed a state-level merged dataset containing the following: \n",
    "- Statistical counts of four types of extreme weather events (Hail, TVS, MDA, Lightning)\n",
    "- Unit price, output and income of crops in each state (Silage corn and Soybean) \n",
    "We hope to assess the predictive power of these weather features on economic performance through machine learning models, and further explain which extreme weather types have the greatest impact on different crops."
   ]
  },
  {
   "cell_type": "code",
   "execution_count": 1,
   "id": "25541a34-2b66-4028-b031-93121d849e5d",
   "metadata": {},
   "outputs": [
    {
     "name": "stdout",
     "output_type": "stream",
     "text": [
      "Index(['State', 'Corn_Yield', 'Corn_Revenue', 'Soy_Yield', 'Soy_Price',\n",
      "       'Soy_Revenue', 'Hail_Count', 'TVS_Count', 'MDA_Count',\n",
      "       'Lightning_Count'],\n",
      "      dtype='object')\n"
     ]
    },
    {
     "data": {
      "text/html": [
       "<div>\n",
       "<style scoped>\n",
       "    .dataframe tbody tr th:only-of-type {\n",
       "        vertical-align: middle;\n",
       "    }\n",
       "\n",
       "    .dataframe tbody tr th {\n",
       "        vertical-align: top;\n",
       "    }\n",
       "\n",
       "    .dataframe thead th {\n",
       "        text-align: right;\n",
       "    }\n",
       "</style>\n",
       "<table border=\"1\" class=\"dataframe\">\n",
       "  <thead>\n",
       "    <tr style=\"text-align: right;\">\n",
       "      <th></th>\n",
       "      <th>State</th>\n",
       "      <th>Corn_Yield</th>\n",
       "      <th>Corn_Revenue</th>\n",
       "      <th>Soy_Yield</th>\n",
       "      <th>Soy_Price</th>\n",
       "      <th>Soy_Revenue</th>\n",
       "      <th>Hail_Count</th>\n",
       "      <th>TVS_Count</th>\n",
       "      <th>MDA_Count</th>\n",
       "      <th>Lightning_Count</th>\n",
       "    </tr>\n",
       "  </thead>\n",
       "  <tbody>\n",
       "    <tr>\n",
       "      <th>0</th>\n",
       "      <td>AK</td>\n",
       "      <td>0.0</td>\n",
       "      <td>0.00</td>\n",
       "      <td>0.0</td>\n",
       "      <td>0.0</td>\n",
       "      <td>0.0</td>\n",
       "      <td>16192</td>\n",
       "      <td>341.0</td>\n",
       "      <td>4733</td>\n",
       "      <td>0.0</td>\n",
       "    </tr>\n",
       "    <tr>\n",
       "      <th>1</th>\n",
       "      <td>AL</td>\n",
       "      <td>16.0</td>\n",
       "      <td>77.12</td>\n",
       "      <td>31.0</td>\n",
       "      <td>10.2</td>\n",
       "      <td>316.2</td>\n",
       "      <td>416475</td>\n",
       "      <td>461.0</td>\n",
       "      <td>26057</td>\n",
       "      <td>43323.0</td>\n",
       "    </tr>\n",
       "    <tr>\n",
       "      <th>2</th>\n",
       "      <td>AR</td>\n",
       "      <td>20.0</td>\n",
       "      <td>88.40</td>\n",
       "      <td>55.0</td>\n",
       "      <td>10.2</td>\n",
       "      <td>561.0</td>\n",
       "      <td>279885</td>\n",
       "      <td>735.0</td>\n",
       "      <td>27816</td>\n",
       "      <td>41497.0</td>\n",
       "    </tr>\n",
       "    <tr>\n",
       "      <th>3</th>\n",
       "      <td>AZ</td>\n",
       "      <td>27.0</td>\n",
       "      <td>115.02</td>\n",
       "      <td>0.0</td>\n",
       "      <td>0.0</td>\n",
       "      <td>0.0</td>\n",
       "      <td>200210</td>\n",
       "      <td>104.0</td>\n",
       "      <td>3888</td>\n",
       "      <td>51981.0</td>\n",
       "    </tr>\n",
       "    <tr>\n",
       "      <th>4</th>\n",
       "      <td>CA</td>\n",
       "      <td>26.0</td>\n",
       "      <td>117.00</td>\n",
       "      <td>0.0</td>\n",
       "      <td>0.0</td>\n",
       "      <td>0.0</td>\n",
       "      <td>44338</td>\n",
       "      <td>911.0</td>\n",
       "      <td>85896</td>\n",
       "      <td>8441.0</td>\n",
       "    </tr>\n",
       "  </tbody>\n",
       "</table>\n",
       "</div>"
      ],
      "text/plain": [
       "  State  Corn_Yield  Corn_Revenue  Soy_Yield  Soy_Price  Soy_Revenue  \\\n",
       "0    AK         0.0          0.00        0.0        0.0          0.0   \n",
       "1    AL        16.0         77.12       31.0       10.2        316.2   \n",
       "2    AR        20.0         88.40       55.0       10.2        561.0   \n",
       "3    AZ        27.0        115.02        0.0        0.0          0.0   \n",
       "4    CA        26.0        117.00        0.0        0.0          0.0   \n",
       "\n",
       "   Hail_Count  TVS_Count  MDA_Count  Lightning_Count  \n",
       "0       16192      341.0       4733              0.0  \n",
       "1      416475      461.0      26057          43323.0  \n",
       "2      279885      735.0      27816          41497.0  \n",
       "3      200210      104.0       3888          51981.0  \n",
       "4       44338      911.0      85896           8441.0  "
      ]
     },
     "execution_count": 1,
     "metadata": {},
     "output_type": "execute_result"
    }
   ],
   "source": [
    "\n",
    "import pandas as pd\n",
    "\n",
    "final_data = pd.read_csv(\"final_data.csv\")\n",
    "\n",
    "print(final_data.columns)\n",
    "final_data.head()\n"
   ]
  },
  {
   "cell_type": "markdown",
   "id": "109d8a57-5c8c-4256-88aa-07ccd086ae1f",
   "metadata": {},
   "source": [
    "\n",
    "## 2. Explanation of Input and Output Variables\n",
    "\n",
    "We will construct the modeling structure in the following way: \n",
    "- Input features (X): - Hail_Count\n",
    "- TVS_Count\n",
    "- MDA_Count\n",
    "- Lightning_Count\n",
    "\n",
    "- Output Variables (y):\n",
    "- Corn_Revenue (for Model 1)\n",
    "- Soy_Revenue (for Model 2) \n",
    "We will establish independent models for the two crops respectively to ensure interpretability and comparability."
   ]
  },
  {
   "cell_type": "code",
   "execution_count": 3,
   "id": "3501a20b-af98-4948-be97-5148c0634d9f",
   "metadata": {},
   "outputs": [],
   "source": [
    "\n",
    "features = ['Hail_Count', 'TVS_Count', 'MDA_Count', 'Lightning_Count']\n",
    "X = final_data[features]\n",
    "y_corn = final_data['Corn_Revenue']\n",
    "y_soy = final_data['Soy_Revenue']"
   ]
  },
  {
   "cell_type": "markdown",
   "id": "9be8e037-9122-47ac-abf1-62f3a21c1f59",
   "metadata": {},
   "source": [
    "\n",
    "## 3. Model selection and modeling process\n",
    "\n",
    "To comprehensively evaluate the predictive ability of extreme weather events on crop income, we selected five common regression models for comparison: \n",
    "1. **Linear Regression**: Serves as a baseline model to determine if a linear relationship exists.\n",
    "2. **Decision Tree Regressor**: Suitable for nonlinear modeling and highly interpretable.\n",
    "3. **Random Forest Regressor**: An ensemble method with strong generalization capabilities.\n",
    "4. **XGBoost Regressor**: A high-performance model, ideal for tabular data.\n",
    "5. **Support Vector Regression (SVR)**: Appropriate for nonlinear modeling with small to medium-sized datasets. \n",
    "We will respectively predict `Corn_Revenue` and `Soy_Revenue`, and compare the performance of each model."
   ]
  },
  {
   "cell_type": "code",
   "execution_count": 4,
   "id": "b5887e4c-1d20-4862-a0ca-29ba34c29320",
   "metadata": {},
   "outputs": [],
   "source": [
    "\n",
    "from sklearn.model_selection import train_test_split\n",
    "\n",
    "X_train_corn, X_test_corn, y_train_corn, y_test_corn = train_test_split(X, y_corn, test_size=0.2, random_state=42)\n",
    "X_train_soy, X_test_soy, y_train_soy, y_test_soy = train_test_split(X, y_soy, test_size=0.2, random_state=42)\n"
   ]
  },
  {
   "cell_type": "code",
   "execution_count": 7,
   "id": "f7053071-9c09-4d0d-ba15-ca4f5c50c457",
   "metadata": {},
   "outputs": [],
   "source": [
    "\n",
    "from sklearn.linear_model import LinearRegression\n",
    "from sklearn.tree import DecisionTreeRegressor\n",
    "from sklearn.ensemble import RandomForestRegressor\n",
    "from sklearn.svm import SVR\n",
    "from xgboost import XGBRegressor\n",
    "\n",
    "models = {\n",
    "    \"Linear\": LinearRegression(),\n",
    "    \"DecisionTree\": DecisionTreeRegressor(random_state=42),\n",
    "    \"RandomForest\": RandomForestRegressor(random_state=42),\n",
    "    \"XGBoost\": XGBRegressor(random_state=42, verbosity=0),\n",
    "    \"SVR\": SVR()\n",
    "}\n"
   ]
  },
  {
   "cell_type": "markdown",
   "id": "9e207d4a-6277-4d2d-9713-2118f09cf590",
   "metadata": {},
   "source": [
    "\n",
    "## 4. data preprocessing\n",
    "\n",
    "Before modeling, we performed the following preprocessing operations on the data: \n",
    "- **Missing Value Handling**: Since all fields in `final_data.csv` are aggregated statistics and the processing has ensured completeness, there is no need to fill in missing values additionally.\n",
    "- **Feature Scaling**:\n",
    "- For models such as linear regression and support vector regression (SVR), the numerical range of input features may affect the prediction results.\n",
    "- We used `StandardScaler` to standardize the four input features (Hail, TVS, MDA, Lightning count) in `X` (with a mean of 0 and a variance of 1).\n",
    "- Tree models (such as decision trees, random forests, and XGBoost) are not sensitive to scaling, so we did not apply scaled features to them.\n",
    "- **Data Splitting**: For each prediction target (Corn_Revenue and Soy_Revenue), the training set and test set were separately divided, with a ratio of 80%/20%. \n",
    "This step provides a clean, consistent and well-adapted input feature space for model training."
   ]
  },
  {
   "cell_type": "code",
   "execution_count": 8,
   "id": "d5508e46-674e-436e-bcb5-c6130365eaf2",
   "metadata": {},
   "outputs": [],
   "source": [
    "\n",
    "from sklearn.preprocessing import StandardScaler\n",
    "\n",
    "\n",
    "scaler = StandardScaler()\n",
    "X_scaled = scaler.fit_transform(X)\n",
    "\n",
    "\n",
    "X_train_corn_std, X_test_corn_std, _, _ = train_test_split(X_scaled, y_corn, test_size=0.2, random_state=42)\n",
    "X_train_soy_std, X_test_soy_std, _, _ = train_test_split(X_scaled, y_soy, test_size=0.2, random_state=42)\n"
   ]
  },
  {
   "cell_type": "markdown",
   "id": "df6ebac2-c2d6-4e28-8e90-667a951847ca",
   "metadata": {},
   "source": [
    "\n",
    "## 5. Model Training and Evaluation\n",
    "\n",
    "We will use the following five metrics to evaluate the performance of each model on the test set: \n",
    "- **R² (Coefficient of Determination)**: Reflects the model's ability to explain variance.\n",
    "- **Mean Squared Error (MSE)**\n",
    "- **Root Mean Squared Error (RMSE)**\n",
    "- **Mean Absolute Error (MAE)**\n",
    "- **Mean Absolute Percentage Error (MAPE)** \n",
    "Each model will be used separately to predict `Corn_Revenue` and `Soy_Revenue`, and the evaluation results will be organized into a table for comparison."
   ]
  },
  {
   "cell_type": "code",
   "execution_count": 21,
   "id": "f4439ba2-3f62-4115-96c0-34d73241b991",
   "metadata": {},
   "outputs": [
    {
     "name": "stdout",
     "output_type": "stream",
     "text": [
      " Corn_Revenue predicting results：\n",
      "          Model      R2     MSE   RMSE    MAE   MAPE\n",
      "0        Linear -0.6400  699.31  26.44  19.94  20.16\n",
      "1  DecisionTree -0.3634  581.36  24.11  20.82  23.87\n",
      "2  RandomForest -0.2434  530.19  23.03  19.17  20.02\n",
      "3       XGBoost -0.4043  598.82  24.47  21.15  23.06\n",
      "4           SVR -0.4282  609.00  24.68  16.19  14.75\n"
     ]
    }
   ],
   "source": [
    "from sklearn.metrics import mean_squared_error, mean_absolute_error, r2_score\n",
    "import numpy as np\n",
    "import pandas as pd\n",
    "\n",
    "def mean_absolute_percentage_error(y_true, y_pred):\n",
    "    y_true, y_pred = np.array(y_true), np.array(y_pred)\n",
    "    nonzero = y_true != 0\n",
    "    return np.mean(np.abs((y_true[nonzero] - y_pred[nonzero]) / y_true[nonzero])) * 100\n",
    "\n",
    "\n",
    "results = []\n",
    "\n",
    "# Training and Evaluation\n",
    "for name, model in models.items():\n",
    "    if name in ['Linear', 'SVR']:\n",
    "        model.fit(X_train_corn_std, y_train_corn)\n",
    "        preds = model.predict(X_test_corn_std)\n",
    "    else:\n",
    "        model.fit(X_train_corn, y_train_corn)\n",
    "        preds = model.predict(X_test_corn)\n",
    "\n",
    "    r2 = r2_score(y_test_corn, preds)\n",
    "    mse = mean_squared_error(y_test_corn, preds)\n",
    "    rmse = np.sqrt(mse)\n",
    "    mae = mean_absolute_error(y_test_corn, preds)\n",
    "    mape = mean_absolute_percentage_error(y_test_corn, preds)\n",
    "\n",
    "    results.append([name, round(r2, 4), round(mse, 2), round(rmse, 2), round(mae, 2), round(mape, 2)])\n",
    "\n",
    "# DataFrame\n",
    "results_df = pd.DataFrame(results, columns=[\"Model\", \"R2\", \"MSE\", \"RMSE\", \"MAE\", \"MAPE\"])\n",
    "print(\" Corn_Revenue predicting results：\")\n",
    "print(results_df)\n"
   ]
  },
  {
   "cell_type": "markdown",
   "id": "36ea254c-de58-4317-b112-46a80a321e92",
   "metadata": {},
   "source": [
    "\n",
    "## 6. The performance of the model on Soy_Revenue\n",
    "\n",
    "We will use the same methods and metrics to predict `Soy_Revenue` for each model and record its performance.\n"
   ]
  },
  {
   "cell_type": "code",
   "execution_count": 22,
   "id": "d5e0216f-80bb-4d31-bebb-f2ef71e1aa51",
   "metadata": {},
   "outputs": [
    {
     "name": "stdout",
     "output_type": "stream",
     "text": [
      " Soy_Revenue predicting results：\n",
      "          Model      R2        MSE    RMSE     MAE   MAPE\n",
      "0        Linear -0.4305   78707.19  280.55  224.04  65.40\n",
      "1  DecisionTree -0.9727  108533.95  329.44  279.00  50.88\n",
      "2  RandomForest  0.2660   40383.92  200.96  179.48  40.77\n",
      "3       XGBoost -0.2305   67701.99  260.20  204.36  22.62\n",
      "4           SVR -0.1849   65194.16  255.33  219.07  22.51\n"
     ]
    }
   ],
   "source": [
    "\n",
    "results_soy = []\n",
    "\n",
    "for name, model in models.items():\n",
    "    if name in ['Linear', 'SVR']:\n",
    "        model.fit(X_train_soy_std, y_train_soy)\n",
    "        preds = model.predict(X_test_soy_std)\n",
    "    else:\n",
    "        model.fit(X_train_soy, y_train_soy)\n",
    "        preds = model.predict(X_test_soy)\n",
    "\n",
    "    r2 = r2_score(y_test_soy, preds)\n",
    "    mse = mean_squared_error(y_test_soy, preds)\n",
    "    rmse = np.sqrt(mse)\n",
    "    mae = mean_absolute_error(y_test_soy, preds)\n",
    "    mape = mean_absolute_percentage_error(y_test_soy, preds)\n",
    "\n",
    "    results_soy.append([name, round(r2, 4), round(mse, 2), round(rmse, 2), round(mae, 2), round(mape, 2)])\n",
    "\n",
    "results_soy_df = pd.DataFrame(results_soy, columns=[\"Model\", \"R2\", \"MSE\", \"RMSE\", \"MAE\", \"MAPE\"])\n",
    "print(\" Soy_Revenue predicting results：\")\n",
    "print(results_soy_df)\n"
   ]
  },
  {
   "cell_type": "markdown",
   "id": "2c94933b-25e6-44f8-8749-586a23025579",
   "metadata": {},
   "source": [
    "\r\n",
    "From the above table, it can be observed that the R² scores of different models on `Soy_Revenue` are generally low, and some are even negative, indicating that the current models have difficulty capturing effective predictive patterns. The possible reasons for this are analyzed as follows: \n",
    "- **Limited sample size**: The data used is at the state level, with only about 50 observations, which is insufficient to support the learning of complex models for underlying patterns.\n",
    "- **Low dimensionality of input features**: It only includes four types of weather statistics, failing to cover core factors influencing yield and income, such as temperature, precipitation, soil quality, and planting techniques.\n",
    "- **Insufficient variable correlation**: Initial checks revealed that most weather variables have weak linear or nonlinear correlations with yield/income, making it difficult for the model to learn useful patterns.\n",
    "- **Extreme values / Imbalanced distribution**: Some states, such as TX and OK, experience extreme weather events much more frequently than others, which may affect model stability.\n",
    "- **Information loss due to data aggregation**: State-level aggregation masks the detailed weather-crop impact at a more granular level. \n",
    "Despite the overall weak performance, we still retain the exploration of feature importance and attempt to enhance the generalization ability through model tuning.型调优提升泛化能力。\r\n"
   ]
  },
  {
   "cell_type": "markdown",
   "id": "79a7128b-a6e6-47c6-92b6-091cf11d5286",
   "metadata": {},
   "source": [
    "### 7. Model Optimization: Parameter Tuning of Random Forest\n",
    "\n",
    "To enhance the model's performance , we conducted hyperparameter tuning on the Random Forest regressor. The `GridSearchCV` method was employed, with the following parameter grid set: \n",
    "- `n_estimators`: [50, 100, 200]\n",
    "- `max_depth`: [None, 3, 5, 10]\n",
    "- `min_samples_split`: [2, 5, 10]\n",
    "\n",
    "We conducted a 5-fold cross-validation on the training set of `Corn_Revenue` to find the optimal parameter combination and report the average R² score of the cross-validation.\n"
   ]
  },
  {
   "cell_type": "code",
   "execution_count": 25,
   "id": "ef6bf1eb-0003-4ec1-9417-404486efd9a8",
   "metadata": {},
   "outputs": [
    {
     "name": "stdout",
     "output_type": "stream",
     "text": [
      " The best combination of parameters（Random Forest）: {'max_depth': 3, 'min_samples_split': 10, 'n_estimators': 100}\n",
      " Cross-validation score（R²）: -0.5959\n"
     ]
    }
   ],
   "source": [
    "from sklearn.model_selection import GridSearchCV\n",
    "\n",
    "rf_param_grid = {\n",
    "    'n_estimators': [50, 100, 200],\n",
    "    'max_depth': [None, 3, 5, 10],\n",
    "    'min_samples_split': [2, 5, 10]\n",
    "}\n",
    "\n",
    "grid_rf = GridSearchCV(\n",
    "    estimator=RandomForestRegressor(random_state=42),\n",
    "    param_grid=rf_param_grid,\n",
    "    cv=5,\n",
    "    scoring='r2',\n",
    "    n_jobs=-1\n",
    ")\n",
    "\n",
    "\n",
    "grid_rf.fit(X_train_corn, y_train_corn)\n",
    "\n",
    "\n",
    "print(\" The best combination of parameters（Random Forest）:\", grid_rf.best_params_)\n",
    "print(\" Cross-validation score（R²）:\", round(grid_rf.best_score_, 4))\n"
   ]
  },
  {
   "cell_type": "code",
   "execution_count": null,
   "id": "87de52c2-7245-4838-94ee-45c709500099",
   "metadata": {},
   "outputs": [],
   "source": []
  },
  {
   "cell_type": "code",
   "execution_count": 26,
   "id": "183f48f5-8a0c-4404-a626-1cf969d13912",
   "metadata": {},
   "outputs": [
    {
     "name": "stdout",
     "output_type": "stream",
     "text": [
      "The best combination of parameters (SVR): {'C': 0.1, 'gamma': 'auto', 'kernel': 'rbf'}\n",
      " Cross-validation score (R²): -0.2044\n"
     ]
    }
   ],
   "source": [
    "from sklearn.svm import SVR\n",
    "\n",
    "param_grid_svr = {\n",
    "    'C': [0.1, 1, 10],\n",
    "    'gamma': ['scale', 'auto'],\n",
    "    'kernel': ['rbf']\n",
    "}\n",
    "\n",
    "svr = SVR()\n",
    "grid_svr = GridSearchCV(svr, param_grid_svr, cv=5, scoring='r2', n_jobs=-1)\n",
    "grid_svr.fit(X_train_corn_std, y_train_corn)  \n",
    "\n",
    "print(\"The best combination of parameters (SVR):\", grid_svr.best_params_)\n",
    "print(\" Cross-validation score (R²):\", round(grid_svr.best_score_, 4))\n"
   ]
  },
  {
   "cell_type": "code",
   "execution_count": null,
   "id": "ef247007-f4e4-4cdf-a9fa-42d7f7aea718",
   "metadata": {},
   "outputs": [],
   "source": []
  },
  {
   "cell_type": "code",
   "execution_count": 27,
   "id": "908b676e-a7ba-45fc-b42e-b27462c394e8",
   "metadata": {},
   "outputs": [
    {
     "name": "stdout",
     "output_type": "stream",
     "text": [
      "The best combination of parameters (Decision Tree): {'max_depth': 3, 'min_samples_split': 10}\n",
      "Cross-validation score (R²): -1.2097\n"
     ]
    }
   ],
   "source": [
    "from sklearn.tree import DecisionTreeRegressor\n",
    "\n",
    "param_grid_dt = {\n",
    "    'max_depth': [3, 5, None],\n",
    "    'min_samples_split': [2, 5, 10]\n",
    "}\n",
    "\n",
    "dt = DecisionTreeRegressor(random_state=42)\n",
    "grid_dt = GridSearchCV(dt, param_grid_dt, cv=5, scoring='r2', n_jobs=-1)\n",
    "grid_dt.fit(X_train_corn, y_train_corn)\n",
    "\n",
    "print(\"The best combination of parameters (Decision Tree):\", grid_dt.best_params_)\n",
    "print(\"Cross-validation score (R²):\", round(grid_dt.best_score_, 4))\n"
   ]
  },
  {
   "cell_type": "markdown",
   "id": "6b5ddc4f-38ce-4ade-9862-50df408e020b",
   "metadata": {},
   "source": [
    "### 7. Model Optimization: Parameter Tuning of Random Forest for Soybean Income Prediction\r\n",
    "We also used `GridSearchCV` to tune the hyperparameters of the prediction model for `Soy_Revenue`, with the parameter grid being the same as that for corn. \n",
    "- `n_estimators`: [50, 100, 200]\n",
    "- `max_depth`: [None, 3, 5, 10]\n",
    "- `min_samples_split`: [2, 5, 10]\n",
    "\n",
    "Through 5-fold cross-validation, we search for the optimal parameter combination on the training set and record its average R² score.均 R² 得分。\r\n"
   ]
  },
  {
   "cell_type": "code",
   "execution_count": 28,
   "id": "e54e7c26-1dca-43b2-95d6-9e5bd02083df",
   "metadata": {},
   "outputs": [
    {
     "name": "stdout",
     "output_type": "stream",
     "text": [
      "The best combination of parameters（Soy RF）: {'max_depth': 3, 'min_samples_split': 10, 'n_estimators': 200}\n",
      "Cross-validation score（R²）: 0.2655\n"
     ]
    }
   ],
   "source": [
    "\n",
    "grid_rf_soy = GridSearchCV(\n",
    "    estimator=RandomForestRegressor(random_state=42),\n",
    "    param_grid=rf_param_grid,\n",
    "    cv=5,\n",
    "    scoring='r2',\n",
    "    n_jobs=-1\n",
    ")\n",
    "\n",
    "grid_rf_soy.fit(X_train_soy, y_train_soy)\n",
    "\n",
    "\n",
    "print(\"The best combination of parameters（Soy RF）:\", grid_rf_soy.best_params_)\n",
    "print(\"Cross-validation score（R²）:\", round(grid_rf_soy.best_score_, 4))\n"
   ]
  },
  {
   "cell_type": "code",
   "execution_count": 29,
   "id": "aa0bedc5-9594-4ced-a05a-df6581c25597",
   "metadata": {},
   "outputs": [
    {
     "name": "stdout",
     "output_type": "stream",
     "text": [
      "The best combination of parameters (Soy SVR): {'C': 10, 'gamma': 'scale', 'kernel': 'rbf'}\n",
      "Cross-validation score (R²): -0.8987\n"
     ]
    }
   ],
   "source": [
    "param_grid_svr_soy = {\n",
    "    'C': [0.1, 1, 10],\n",
    "    'gamma': ['scale', 'auto'],\n",
    "    'kernel': ['rbf']\n",
    "}\n",
    "\n",
    "svr_soy = SVR()\n",
    "grid_svr_soy = GridSearchCV(svr_soy, param_grid_svr_soy, cv=5, scoring='r2', n_jobs=-1)\n",
    "grid_svr_soy.fit(X_train_soy_std, y_train_soy)  # 注意用标准化数据！\n",
    "\n",
    "print(\"The best combination of parameters (Soy SVR):\", grid_svr_soy.best_params_)\n",
    "print(\"Cross-validation score (R²):\", round(grid_svr_soy.best_score_, 4))\n"
   ]
  },
  {
   "cell_type": "code",
   "execution_count": 30,
   "id": "437629be-d890-4ae0-bee9-53b110915b4b",
   "metadata": {},
   "outputs": [
    {
     "name": "stdout",
     "output_type": "stream",
     "text": [
      "The best combination of parameters (Soy Decision Tree): {'max_depth': 3, 'min_samples_split': 10}\n",
      "Cross-validation score (R²): 0.1064\n"
     ]
    }
   ],
   "source": [
    "param_grid_dt_soy = {\n",
    "    'max_depth': [3, 5, None],\n",
    "    'min_samples_split': [2, 5, 10]\n",
    "}\n",
    "\n",
    "dt_soy = DecisionTreeRegressor(random_state=42)\n",
    "grid_dt_soy = GridSearchCV(dt_soy, param_grid_dt_soy, cv=5, scoring='r2', n_jobs=-1)\n",
    "grid_dt_soy.fit(X_train_soy, y_train_soy)\n",
    "\n",
    "print(\"The best combination of parameters (Soy Decision Tree):\", grid_dt_soy.best_params_)\n",
    "print(\"Cross-validation score (R²):\", round(grid_dt_soy.best_score_, 4))\n"
   ]
  },
  {
   "cell_type": "markdown",
   "id": "6493bf47-6644-47f8-9981-6f75ddca99d2",
   "metadata": {},
   "source": [
    "### 8. Model interpretability analysis: Feature importance\r\n",
    "Based on the trained random forest model, we extracted the importance indicators of each input feature and presented them through a bar chart. This chart reflects the relative influence of four types of extreme weather events on the prediction of `Corn_Revenue`, facilitating subsequent interpretative analysis and feature selection.选。\r\n"
   ]
  },
  {
   "cell_type": "code",
   "execution_count": 23,
   "id": "3c590a5a-f297-47e9-a96f-6a783ad3bace",
   "metadata": {},
   "outputs": [
    {
     "name": "stderr",
     "output_type": "stream",
     "text": [
      "C:\\Users\\lenovo\\AppData\\Local\\Temp\\ipykernel_14380\\551136615.py:18: UserWarning: Glyph 65288 (\\N{FULLWIDTH LEFT PARENTHESIS}) missing from font(s) DejaVu Sans.\n",
      "  plt.tight_layout()\n",
      "C:\\Users\\lenovo\\AppData\\Local\\Temp\\ipykernel_14380\\551136615.py:18: UserWarning: Glyph 65289 (\\N{FULLWIDTH RIGHT PARENTHESIS}) missing from font(s) DejaVu Sans.\n",
      "  plt.tight_layout()\n",
      "E:\\Anaconda\\Lib\\site-packages\\IPython\\core\\pylabtools.py:170: UserWarning: Glyph 65288 (\\N{FULLWIDTH LEFT PARENTHESIS}) missing from font(s) DejaVu Sans.\n",
      "  fig.canvas.print_figure(bytes_io, **kw)\n",
      "E:\\Anaconda\\Lib\\site-packages\\IPython\\core\\pylabtools.py:170: UserWarning: Glyph 65289 (\\N{FULLWIDTH RIGHT PARENTHESIS}) missing from font(s) DejaVu Sans.\n",
      "  fig.canvas.print_figure(bytes_io, **kw)\n"
     ]
    },
    {
     "data": {
      "image/png": "[encoded data removed]",
      "text/plain": [
       "<Figure size 800x400 with 1 Axes>"
      ]
     },
     "metadata": {},
     "output_type": "display_data"
    }
   ],
   "source": [
    "import matplotlib.pyplot as plt\n",
    "\n",
    "\n",
    "rf_best = grid_rf.best_estimator_\n",
    "rf_best.fit(X_train_corn, y_train_corn)\n",
    "\n",
    "importances = rf_best.feature_importances_\n",
    "features = X.columns\n",
    "\n",
    "plt.figure(figsize=(8, 4))\n",
    "plt.bar(features, importances, color='teal')\n",
    "plt.title(\" Corn_Revenue feature importance（Random Forest）\")\n",
    "plt.ylabel(\"Importance\")\n",
    "plt.xlabel(\"Weather Feature\")\n",
    "plt.xticks(rotation=15)\n",
    "plt.tight_layout()\n",
    "plt.show()\n"
   ]
  },
  {
   "cell_type": "markdown",
   "id": "75167162-89a9-4514-965b-e17fa47e2dce",
   "metadata": {},
   "source": [
    "### 8. Model Interpretation: Feature Importance of Soybean Income\n",
    "\n",
    "Based on the tuned random forest model, we extracted the relative importance of four types of weather event features for `Soy_Revenue` and visualized them using a bar chart. \n",
    "It helps to reveal the differences in the impacts of extreme weather types on different crops and provides a reference for subsequent feature selection or explanatory modeling.\n"
   ]
  },
  {
   "cell_type": "code",
   "execution_count": 24,
   "id": "8bf48352-77a8-4d7d-ad4c-21a05611aecd",
   "metadata": {},
   "outputs": [
    {
     "name": "stderr",
     "output_type": "stream",
     "text": [
      "C:\\Users\\lenovo\\AppData\\Local\\Temp\\ipykernel_14380\\2804855703.py:13: UserWarning: Glyph 65288 (\\N{FULLWIDTH LEFT PARENTHESIS}) missing from font(s) DejaVu Sans.\n",
      "  plt.tight_layout()\n",
      "C:\\Users\\lenovo\\AppData\\Local\\Temp\\ipykernel_14380\\2804855703.py:13: UserWarning: Glyph 65289 (\\N{FULLWIDTH RIGHT PARENTHESIS}) missing from font(s) DejaVu Sans.\n",
      "  plt.tight_layout()\n",
      "E:\\Anaconda\\Lib\\site-packages\\IPython\\core\\pylabtools.py:170: UserWarning: Glyph 65288 (\\N{FULLWIDTH LEFT PARENTHESIS}) missing from font(s) DejaVu Sans.\n",
      "  fig.canvas.print_figure(bytes_io, **kw)\n",
      "E:\\Anaconda\\Lib\\site-packages\\IPython\\core\\pylabtools.py:170: UserWarning: Glyph 65289 (\\N{FULLWIDTH RIGHT PARENTHESIS}) missing from font(s) DejaVu Sans.\n",
      "  fig.canvas.print_figure(bytes_io, **kw)\n"
     ]
    },
    {
     "data": {
      "image/png": "[encoded data removed]",
      "text/plain": [
       "<Figure size 800x400 with 1 Axes>"
      ]
     },
     "metadata": {},
     "output_type": "display_data"
    }
   ],
   "source": [
    "\n",
    "rf_soy = grid_rf_soy.best_estimator_\n",
    "rf_soy.fit(X_train_soy, y_train_soy)\n",
    "\n",
    "importances_soy = rf_soy.feature_importances_\n",
    "\n",
    "plt.figure(figsize=(8, 4))\n",
    "plt.bar(X.columns, importances_soy, color='darkgreen')\n",
    "plt.title(\" Soy_Revenue feature importance（Random Forest）\")\n",
    "plt.ylabel(\"Importance\")\n",
    "plt.xlabel(\"Weather Feature\")\n",
    "plt.xticks(rotation=15)\n",
    "plt.tight_layout()\n",
    "plt.show()\n"
   ]
  }
 ],
 "metadata": {
  "kernelspec": {
   "display_name": "Python 3 (ipykernel)",
   "language": "python",
   "name": "python3"
  },
  "language_info": {
   "codemirror_mode": {
    "name": "ipython",
    "version": 3
   },
   "file_extension": ".py",
   "mimetype": "text/x-python",
   "name": "python",
   "nbconvert_exporter": "python",
   "pygments_lexer": "ipython3",
   "version": "3.12.3"
  }
 },
 "nbformat": 4,
 "nbformat_minor": 5
}
